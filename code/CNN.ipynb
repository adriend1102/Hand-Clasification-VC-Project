{
 "cells": [
  {
   "cell_type": "code",
   "execution_count": 18,
   "metadata": {},
   "outputs": [],
   "source": [
    "import numpy as np\n",
    "import pandas as pd\n",
    "import seaborn as sns\n",
    "import matplotlib.pyplot as plt\n",
    "import tensorflow as tf\n",
    "\n",
    "from sklearn.model_selection import train_test_split\n",
    "from tqdm import tqdm\n",
    "import cv2\n",
    "import os\n",
    "import matplotlib.image as mpimg"
   ]
  },
  {
   "cell_type": "code",
   "execution_count": 19,
   "metadata": {},
   "outputs": [
    {
     "data": {
      "text/plain": [
       "[1, 2, 3, 4, 5]"
      ]
     },
     "execution_count": 19,
     "metadata": {},
     "output_type": "execute_result"
    }
   ],
   "source": [
    "#caracters de sortida:\n",
    "sortides = [1,2,3,4,5]\n",
    "sortides"
   ]
  },
  {
   "cell_type": "code",
   "execution_count": 22,
   "metadata": {},
   "outputs": [
    {
     "ename": "FileNotFoundError",
     "evalue": "[WinError 3] El sistema no puede encontrar la ruta especificada: '../dataset/sign_0/'",
     "output_type": "error",
     "traceback": [
      "\u001b[1;31m---------------------------------------------------------------------------\u001b[0m",
      "\u001b[1;31mFileNotFoundError\u001b[0m                         Traceback (most recent call last)",
      "Cell \u001b[1;32mIn[22], line 6\u001b[0m\n\u001b[0;32m      4\u001b[0m carpeta \u001b[39m=\u001b[39m \u001b[39m'\u001b[39m\u001b[39mdata/data\u001b[39m\u001b[39m'\u001b[39m\n\u001b[0;32m      5\u001b[0m \u001b[39mfor\u001b[39;00m i \u001b[39min\u001b[39;00m \u001b[39mrange\u001b[39m(\u001b[39m5\u001b[39m):\n\u001b[1;32m----> 6\u001b[0m     imagenes \u001b[39m=\u001b[39m np\u001b[39m.\u001b[39mappend(os\u001b[39m.\u001b[39;49mlistdir(\u001b[39mf\u001b[39;49m\u001b[39m\"\u001b[39;49m\u001b[39m../dataset/sign_\u001b[39;49m\u001b[39m{\u001b[39;49;00mi\u001b[39m}\u001b[39;49;00m\u001b[39m/\u001b[39;49m\u001b[39m\"\u001b[39;49m))\n",
      "\u001b[1;31mFileNotFoundError\u001b[0m: [WinError 3] El sistema no puede encontrar la ruta especificada: '../dataset/sign_0/'"
     ]
    },
    {
     "data": {
      "text/plain": [
       "<Figure size 1500x900 with 0 Axes>"
      ]
     },
     "metadata": {},
     "output_type": "display_data"
    }
   ],
   "source": [
    "#Mostrar algunas imagenes con pyplot (las 15 primeras)\n",
    "plt.figure(figsize=(15,9))\n",
    "imagenes = np.array([])\n",
    "carpeta = 'data/data'\n",
    "for i in range(5):\n",
    "    imagenes = np.append(os.listdir(f\"../dataset/sign_{i}/\"))"
   ]
  },
  {
   "cell_type": "code",
   "execution_count": null,
   "metadata": {},
   "outputs": [],
   "source": [
    "import tensorflow as tf\n",
    "from tensorflow.python import metrics\n",
    "#Modelo con funcion de costo Error Cuadratico Medio (MSE) One Hot Encoded (OHE)\n",
    "mseModelOHE = tf.keras.Sequential([\n",
    "    tf.keras.layers.Flatten(input_shape=[64,64,1]), #neuronas de entrada\n",
    "    tf.keras.layers.Dense(50, activation=tf.nn.relu), #1a capa oculta activacion relu\n",
    "    tf.keras.layers.Dense(15, activation=tf.nn.softmax), #capa de salida 15 salidas posibles\n",
    "])\n",
    "#Compilar el modelo\n",
    "mseModelOHE.compile(    \n",
    "    optimizer = 'adam',\n",
    "    loss='mean_squared_error',\n",
    "    metrics = ['accuracy']\n",
    ")\n",
    "mseModelOHE.summary()\n",
    "\n",
    "#Modelo con funcion de costo Porcentage de error absoluto medio (MAPE) One Hot Encoded (OHE)\n",
    "\n",
    "mapeModelOHE = tf.keras.Sequential([\n",
    "    tf.keras.layers.Flatten(input_shape=[64,64,1]), #neuronas de entrada\n",
    "    tf.keras.layers.Dense(50, activation=tf.nn.relu), #1a capa oculta activacion relu\n",
    "    tf.keras.layers.Dense(15, activation=tf.nn.softmax), #capa de salida 15 salidas posibles\n",
    "])\n",
    "#Compilar el modelo\n",
    "mapeModelOHE.compile(    \n",
    "    optimizer = 'adam',\n",
    "    loss=tf.keras.losses.MeanAbsolutePercentageError(),\n",
    "    metrics = ['accuracy']\n",
    ")\n",
    "mapeModelOHE.summary()\n",
    "\n",
    "#Modelo con funcion de costo categorical_crossentropy One Hot Encoded (OHE)\n",
    "\n",
    "cceModelOHE = tf.keras.Sequential([\n",
    "    tf.keras.layers.Flatten(input_shape=[64,64,1]), #neuronas de entrada\n",
    "    tf.keras.layers.Dense(50, activation=tf.nn.relu), #1a capa oculta activacion relu\n",
    "    tf.keras.layers.Dense(15, activation=tf.nn.softmax), #capa de salida 15 salidas posibles\n",
    "])\n",
    "#Compilar el modelo\n",
    "cceModelOHE.compile(    \n",
    "    optimizer = 'adam',\n",
    "    loss='categorical_crossentropy',\n",
    "    metrics = ['accuracy']\n",
    ")\n",
    "cceModelOHE.summary()\n",
    "\n",
    "#Modelo con funcion de costo Porcentage de error absoluto medio (MAPE) One Hot Encoded (OHE)\n",
    "\n",
    "maeModelOHE = tf.keras.Sequential([\n",
    "    tf.keras.layers.Flatten(input_shape=[64,64,1]), #neuronas de entrada\n",
    "    tf.keras.layers.Dense(50, activation=tf.nn.relu), #1a capa oculta activacion relu\n",
    "    tf.keras.layers.Dense(15, activation=tf.nn.softmax), #capa de salida 15 salidas posibles\n",
    "])\n",
    "#Compilar el modelo\n",
    "maeModelOHE.compile(    \n",
    "    optimizer = 'adam',\n",
    "    loss=tf.keras.losses.MeanAbsoluteError(),\n",
    "    metrics = ['accuracy']\n",
    ")\n",
    "maeModelOHE.summary()"
   ]
  }
 ],
 "metadata": {
  "kernelspec": {
   "display_name": "base",
   "language": "python",
   "name": "python3"
  },
  "language_info": {
   "codemirror_mode": {
    "name": "ipython",
    "version": 3
   },
   "file_extension": ".py",
   "mimetype": "text/x-python",
   "name": "python",
   "nbconvert_exporter": "python",
   "pygments_lexer": "ipython3",
   "version": "3.9.16"
  },
  "orig_nbformat": 4
 },
 "nbformat": 4,
 "nbformat_minor": 2
}
