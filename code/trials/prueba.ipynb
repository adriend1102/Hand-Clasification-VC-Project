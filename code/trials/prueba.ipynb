{
 "cells": [
  {
   "cell_type": "code",
   "execution_count": 2,
   "metadata": {},
   "outputs": [],
   "source": [
    "import numpy as np\n",
    "import pandas as pd\n",
    "import seaborn as sns\n",
    "import matplotlib.pyplot as plt\n",
    "import tensorflow as tf\n",
    "import random\n",
    "\n",
    "from sklearn.model_selection import train_test_split\n",
    "from tqdm import tqdm\n",
    "import cv2\n",
    "import os\n",
    "import matplotlib.image as mpimg\n",
    "def getTrainTest(listSignsDirectory, sampleDiv, pTrain, typeIm):\n",
    "    \n",
    "    train = []\n",
    "    test = []\n",
    "    trainLabels = []\n",
    "    testLabels = []\n",
    "    \n",
    "    for directory in listSignsDirectory:\n",
    "        \n",
    "        relativePath = \"../dataset/\" + directory\n",
    "        \n",
    "        # Get number frames\n",
    "        nFiles = len(os.listdir(os.path.abspath(relativePath)))   \n",
    "        \n",
    "        # Random sample of Data for Train - Test\n",
    "        sample = random.sample(range(1,nFiles), round(nFiles/sampleDiv))\n",
    "        nTrain = int(round(round(nFiles/sampleDiv)*pTrain))\n",
    "        \n",
    "        print(\"Reading \" + str(round(nFiles/sampleDiv)) + \" random frames from \" + relativePath)\n",
    "        \n",
    "        # Reading random sample\n",
    "        for frame in sample[:nTrain]:\n",
    "            img = cv2.imread(relativePath + \"/\" + directory + \"_\" + str(frame) + \".jpg\", typeIm)\n",
    "            img = cv2.cvtColor(img, cv2.COLOR_BGR2RGB)\n",
    "            train.append(img)\n",
    "            \n",
    "        for frame in sample[nTrain:]:\n",
    "            img = cv2.imread(relativePath + \"/\" + directory + \"_\" + str(frame) + \".jpg\", typeIm)\n",
    "            img = cv2.cvtColor(img, cv2.COLOR_BGR2RGB)\n",
    "            test.append(img)\n",
    "        #Hacemos one_hot encode\n",
    "        one_hot = [0] * 5\n",
    "        one_hot[int(directory[-1]) - 1] = 1\n",
    "        trainLabels.append( [one_hot] * nTrain)\n",
    "        testLabels.append( [one_hot] * (round(nFiles/sampleDiv) - nTrain))\n",
    "        \n",
    "    \n",
    "    trainLabels = [item for sublist in trainLabels for item in sublist]\n",
    "    testLabels = [item for sublist in testLabels for item in sublist]\n",
    "    #Hacemos one_hot encode\n",
    "    #one_hot = [0] * 5\n",
    "    #one_hot[code - 1] = 1\n",
    "    #y.append(one_hot)\n",
    "    \n",
    "    print(\"Shuffling data...\\n\")   \n",
    "    zipped = list(zip(train, trainLabels))\n",
    "    random.shuffle(zipped)\n",
    "    train, trainLabels = zip(*zipped)\n",
    "\n",
    "    zipped = list(zip(test, testLabels))\n",
    "    random.shuffle(zipped)\n",
    "    test, testLabels = zip(*zipped)\n",
    "    \n",
    "    return train, trainLabels, test, testLabels\n",
    "\n"
   ]
  },
  {
   "cell_type": "code",
   "execution_count": 3,
   "metadata": {},
   "outputs": [
    {
     "name": "stdout",
     "output_type": "stream",
     "text": [
      "Reading 375 random frames from ../dataset/sign_1\n",
      "Reading 368 random frames from ../dataset/sign_2\n",
      "Reading 406 random frames from ../dataset/sign_3\n",
      "Reading 356 random frames from ../dataset/sign_4\n",
      "Reading 350 random frames from ../dataset/sign_5\n",
      "Shuffling data...\n",
      "\n",
      "Resultado en las pruebas CNN con OHE: \n",
      "12/12 [==============================] - 1s 44ms/step - loss: 1.0719 - accuracy: 0.8922\n"
     ]
    }
   ],
   "source": [
    "modelCNN = tf.keras.models.load_model(\"../models/modelCNN.h5\")\n",
    "listSignsDirectory = [\"sign_1\", \"sign_2\", \"sign_3\", \"sign_4\", \"sign_5\"]\n",
    "train, trainLabels, test, testLabels = getTrainTest(listSignsDirectory, 4, 0.8,cv2.COLOR_BGR2RGB)\n",
    "train = np.array(train)\n",
    "trainLabels = np.array(trainLabels)\n",
    "test = np.array(test)\n",
    "testLabels = np.array(testLabels)\n",
    "\n",
    "\n",
    "#Evaluar nuestro modelo ya entrenado, contra el dataset de pruebas\n",
    "print(\"Resultado en las pruebas CNN con OHE: \")\n",
    "test_loss, test_accuracy = modelCNN.evaluate(test, testLabels)\n",
    "\n",
    "\n"
   ]
  },
  {
   "cell_type": "code",
   "execution_count": 10,
   "metadata": {},
   "outputs": [
    {
     "name": "stdout",
     "output_type": "stream",
     "text": [
      "12/12 [==============================] - 0s 39ms/step\n",
      "[[3.7734602e-10 2.1213687e-05 9.9994880e-01 1.4750735e-05 1.5113605e-05]\n",
      " [1.4570297e-15 2.1937586e-14 2.8305839e-12 9.9999994e-01 2.8525652e-13]\n",
      " [1.0200785e-07 9.6730453e-08 3.4550899e-07 9.9998957e-01 9.8236405e-06]\n",
      " ...\n",
      " [1.6689185e-16 9.9999225e-01 2.9902108e-16 2.1749412e-20 7.7998802e-06]\n",
      " [5.7117129e-05 9.9994206e-01 7.9424836e-07 2.5585243e-09 2.1855026e-12]\n",
      " [9.9982554e-01 1.7302803e-04 1.2071637e-11 1.4847994e-06 8.3328299e-13]]\n",
      "8\n"
     ]
    }
   ],
   "source": [
    "varia = modelCNN.predict(test)\n",
    "print(varia)\n",
    "index_max = np.argmax(varia)\n",
    "print(index_max)\n"
   ]
  }
 ],
 "metadata": {
  "kernelspec": {
   "display_name": "base",
   "language": "python",
   "name": "python3"
  },
  "language_info": {
   "codemirror_mode": {
    "name": "ipython",
    "version": 3
   },
   "file_extension": ".py",
   "mimetype": "text/x-python",
   "name": "python",
   "nbconvert_exporter": "python",
   "pygments_lexer": "ipython3",
   "version": "3.9.16"
  },
  "orig_nbformat": 4
 },
 "nbformat": 4,
 "nbformat_minor": 2
}
